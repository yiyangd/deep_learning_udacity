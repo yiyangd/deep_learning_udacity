{
 "cells": [
  {
   "cell_type": "markdown",
   "metadata": {
    "collapsed": true
   },
   "source": [
    "# Image Classification\n",
    "In this project, you'll classify images from the [CIFAR-10 dataset](https://www.cs.toronto.edu/~kriz/cifar.html).  The dataset consists of airplanes, dogs, cats, and other objects. You'll preprocess the images, then train a convolutional neural network on all the samples. The images need to be normalized and the labels need to be one-hot encoded.  You'll get to apply what you learned and build a convolutional, max pooling, dropout, and fully connected layers.  At the end, you'll get to see your neural network's predictions on the sample images.\n",
    "## Get the Data\n",
    "Run the following cell to download the [CIFAR-10 dataset for python](https://www.cs.toronto.edu/~kriz/cifar-10-python.tar.gz)."
   ]
  },
  {
   "cell_type": "code",
   "execution_count": 1,
   "metadata": {},
   "outputs": [
    {
     "name": "stderr",
     "output_type": "stream",
     "text": [
      "CIFAR-10 Dataset: 171MB [00:27, 6.27MB/s]                              \n"
     ]
    },
    {
     "name": "stdout",
     "output_type": "stream",
     "text": [
      "All files found!\n"
     ]
    }
   ],
   "source": [
    "\"\"\"\n",
    "DON'T MODIFY ANYTHING IN THIS CELL THAT IS BELOW THIS LINE\n",
    "\"\"\"\n",
    "from urllib.request import urlretrieve\n",
    "from os.path import isfile, isdir\n",
    "from tqdm import tqdm\n",
    "import problem_unittests as tests\n",
    "import tarfile\n",
    "\n",
    "cifar10_dataset_folder_path = 'cifar-10-batches-py'\n",
    "\n",
    "# Use Floyd's cifar-10 dataset if present\n",
    "floyd_cifar10_location = '/cifar/cifar-10-python.tar.gz'\n",
    "if isfile(floyd_cifar10_location):\n",
    "    tar_gz_path = floyd_cifar10_location\n",
    "else:\n",
    "    tar_gz_path = 'cifar-10-python.tar.gz'\n",
    "\n",
    "class DLProgress(tqdm):\n",
    "    last_block = 0\n",
    "\n",
    "    def hook(self, block_num=1, block_size=1, total_size=None):\n",
    "        self.total = total_size\n",
    "        self.update((block_num - self.last_block) * block_size)\n",
    "        self.last_block = block_num\n",
    "\n",
    "if not isfile(tar_gz_path):\n",
    "    with DLProgress(unit='B', unit_scale=True, miniters=1, desc='CIFAR-10 Dataset') as pbar:\n",
    "        urlretrieve(\n",
    "            'https://www.cs.toronto.edu/~kriz/cifar-10-python.tar.gz',\n",
    "            tar_gz_path,\n",
    "            pbar.hook)\n",
    "\n",
    "if not isdir(cifar10_dataset_folder_path):\n",
    "    with tarfile.open(tar_gz_path) as tar:\n",
    "        tar.extractall()\n",
    "        tar.close()\n",
    "\n",
    "\n",
    "tests.test_folder_path(cifar10_dataset_folder_path)"
   ]
  },
  {
   "cell_type": "markdown",
   "metadata": {},
   "source": [
    "## Explore the Data\n",
    "The dataset is broken into batches to prevent your machine from running out of memory.  The CIFAR-10 dataset consists of 5 batches, named `data_batch_1`, `data_batch_2`, etc.. Each batch contains the labels and images that are one of the following:\n",
    "* airplane\n",
    "* automobile\n",
    "* bird\n",
    "* cat\n",
    "* deer\n",
    "* dog\n",
    "* frog\n",
    "* horse\n",
    "* ship\n",
    "* truck\n",
    "\n",
    "Understanding a dataset is part of making predictions on the data.  Play around with the code cell below by changing the `batch_id` and `sample_id`. The `batch_id` is the id for a batch (1-5). The `sample_id` is the id for a image and label pair in the batch.\n",
    "\n",
    "Ask yourself \"What are all possible labels?\", \"What is the range of values for the image data?\", \"Are the labels in order or random?\".  Answers to questions like these will help you preprocess the data and end up with better predictions."
   ]
  },
  {
   "cell_type": "code",
   "execution_count": 2,
   "metadata": {},
   "outputs": [
    {
     "name": "stdout",
     "output_type": "stream",
     "text": [
      "\n",
      "Stats of batch 1:\n",
      "Samples: 10000\n",
      "Label Counts: {0: 1005, 1: 974, 2: 1032, 3: 1016, 4: 999, 5: 937, 6: 1030, 7: 1001, 8: 1025, 9: 981}\n",
      "First 20 Labels: [6, 9, 9, 4, 1, 1, 2, 7, 8, 3, 4, 7, 7, 2, 9, 9, 9, 3, 2, 6]\n",
      "\n",
      "Example of Image 5:\n",
      "Image - Min Value: 0 Max Value: 252\n",
      "Image - Shape: (32, 32, 3)\n",
      "Label - Label Id: 1 Name: automobile\n"
     ]
    },
    {
     "data": {
      "image/png": "[encoded data removed]",
      "text/plain": [
       "<matplotlib.figure.Figure at 0x1918319ef0>"
      ]
     },
     "metadata": {
      "image/png": {
       "height": 250,
       "width": 253
      }
     },
     "output_type": "display_data"
    }
   ],
   "source": [
    "%matplotlib inline\n",
    "%config InlineBackend.figure_format = 'retina'\n",
    "\n",
    "import helper\n",
    "import numpy as np\n",
    "\n",
    "# Explore the dataset\n",
    "batch_id = 1\n",
    "sample_id = 5\n",
    "helper.display_stats(cifar10_dataset_folder_path, batch_id, sample_id)"
   ]
  },
  {
   "cell_type": "markdown",
   "metadata": {},
   "source": [
    "## Implement Preprocess Functions\n",
    "### Normalize\n",
    "In the cell below, implement the `normalize` function to take in image data, `x`, and return it as a normalized Numpy array. The values should be in the range of 0 to 1, inclusive.  The return object should be the same shape as `x`."
   ]
  },
  {
   "cell_type": "code",
   "execution_count": 3,
   "metadata": {},
   "outputs": [
    {
     "name": "stdout",
     "output_type": "stream",
     "text": [
      "Tests Passed\n"
     ]
    }
   ],
   "source": [
    "def normalize(x):\n",
    "    \"\"\"\n",
    "    Normalize a list of sample image data in the range of 0 to 1\n",
    "    : x: List of image data.  The image shape is (32, 32, 3)\n",
    "    : return: Numpy array of normalize data\n",
    "    \"\"\"\n",
    "    # TODO: Implement Function\n",
    "    return (x - np.min(x))/(np.max(x) - np.min(x))\n",
    "\n",
    "\n",
    "\"\"\"\n",
    "DON'T MODIFY ANYTHING IN THIS CELL THAT IS BELOW THIS LINE\n",
    "\"\"\"\n",
    "tests.test_normalize(normalize)"
   ]
  },
  {
   "cell_type": "markdown",
   "metadata": {},
   "source": [
    "### One-hot encode\n",
    "Just like the previous code cell, you'll be implementing a function for preprocessing.  This time, you'll implement the `one_hot_encode` function. The input, `x`, are a list of labels.  Implement the function to return the list of labels as One-Hot encoded Numpy array.  The possible values for labels are 0 to 9. The one-hot encoding function should return the same encoding for each value between each call to `one_hot_encode`.  Make sure to save the map of encodings outside the function.\n",
    "\n",
    "Hint: Don't reinvent the wheel."
   ]
  },
  {
   "cell_type": "code",
   "execution_count": 4,
   "metadata": {},
   "outputs": [
    {
     "name": "stdout",
     "output_type": "stream",
     "text": [
      "Tests Passed\n"
     ]
    }
   ],
   "source": [
    "def one_hot_encode(x):\n",
    "    \"\"\"\n",
    "    One hot encode a list of sample labels. Return a one-hot encoded vector for each label.\n",
    "    : x: List of sample Labels\n",
    "    : return: Numpy array of one-hot encoded labels\n",
    "    \"\"\"\n",
    "    # TODO: Implement Function\n",
    "    max_vals = 10\n",
    "    return np.eye(max_vals)[x]\n",
    "\n",
    "\n",
    "\"\"\"\n",
    "DON'T MODIFY ANYTHING IN THIS CELL THAT IS BELOW THIS LINE\n",
    "\"\"\"\n",
    "tests.test_one_hot_encode(one_hot_encode)"
   ]
  },
  {
   "cell_type": "markdown",
   "metadata": {},
   "source": [
    "### Randomize Data\n",
    "As you saw from exploring the data above, the order of the samples are randomized.  It doesn't hurt to randomize it again, but you don't need to for this dataset."
   ]
  },
  {
   "cell_type": "markdown",
   "metadata": {},
   "source": [
    "## Preprocess all the data and save it\n",
    "Running the code cell below will preprocess all the CIFAR-10 data and save it to file. The code below also uses 10% of the training data for validation."
   ]
  },
  {
   "cell_type": "code",
   "execution_count": 5,
   "metadata": {
    "collapsed": true
   },
   "outputs": [],
   "source": [
    "\"\"\"\n",
    "DON'T MODIFY ANYTHING IN THIS CELL\n",
    "\"\"\"\n",
    "# Preprocess Training, Validation, and Testing Data\n",
    "helper.preprocess_and_save_data(cifar10_dataset_folder_path, normalize, one_hot_encode)"
   ]
  },
  {
   "cell_type": "markdown",
   "metadata": {},
   "source": [
    "# Check Point\n",
    "This is your first checkpoint.  If you ever decide to come back to this notebook or have to restart the notebook, you can start from here.  The preprocessed data has been saved to disk."
   ]
  },
  {
   "cell_type": "code",
   "execution_count": 6,
   "metadata": {
    "collapsed": true
   },
   "outputs": [],
   "source": [
    "\"\"\"\n",
    "DON'T MODIFY ANYTHING IN THIS CELL\n",
    "\"\"\"\n",
    "import pickle\n",
    "import problem_unittests as tests\n",
    "import helper\n",
    "\n",
    "# Load the Preprocessed Validation data\n",
    "valid_features, valid_labels = pickle.load(open('preprocess_validation.p', mode='rb'))"
   ]
  },
  {
   "cell_type": "markdown",
   "metadata": {},
   "source": [
    "## Build the network\n",
    "For the neural network, you'll build each layer into a function.  Most of the code you've seen has been outside of functions. To test your code more thoroughly, we require that you put each layer in a function.  This allows us to give you better feedback and test for simple mistakes using our unittests before you submit your project.\n",
    "\n",
    ">**Note:** If you're finding it hard to dedicate enough time for this course each week, we've provided a small shortcut to this part of the project. In the next couple of problems, you'll have the option to use classes from the [TensorFlow Layers](https://www.tensorflow.org/api_docs/python/tf/layers) or [TensorFlow Layers (contrib)](https://www.tensorflow.org/api_guides/python/contrib.layers) packages to build each layer, except the layers you build in the \"Convolutional and Max Pooling Layer\" section.  TF Layers is similar to Keras's and TFLearn's abstraction to layers, so it's easy to pickup.\n",
    "\n",
    ">However, if you would like to get the most out of this course, try to solve all the problems _without_ using anything from the TF Layers packages. You **can** still use classes from other packages that happen to have the same name as ones you find in TF Layers! For example, instead of using the TF Layers version of the `conv2d` class, [tf.layers.conv2d](https://www.tensorflow.org/api_docs/python/tf/layers/conv2d), you would want to use the TF Neural Network version of `conv2d`, [tf.nn.conv2d](https://www.tensorflow.org/api_docs/python/tf/nn/conv2d). \n",
    "\n",
    "Let's begin!\n",
    "\n",
    "### Input\n",
    "The neural network needs to read the image data, one-hot encoded labels, and dropout keep probability. Implement the following functions\n",
    "* Implement `neural_net_image_input`\n",
    " * Return a [TF Placeholder](https://www.tensorflow.org/api_docs/python/tf/placeholder)\n",
    " * Set the shape using `image_shape` with batch size set to `None`.\n",
    " * Name the TensorFlow placeholder \"x\" using the TensorFlow `name` parameter in the [TF Placeholder](https://www.tensorflow.org/api_docs/python/tf/placeholder).\n",
    "* Implement `neural_net_label_input`\n",
    " * Return a [TF Placeholder](https://www.tensorflow.org/api_docs/python/tf/placeholder)\n",
    " * Set the shape using `n_classes` with batch size set to `None`.\n",
    " * Name the TensorFlow placeholder \"y\" using the TensorFlow `name` parameter in the [TF Placeholder](https://www.tensorflow.org/api_docs/python/tf/placeholder).\n",
    "* Implement `neural_net_keep_prob_input`\n",
    " * Return a [TF Placeholder](https://www.tensorflow.org/api_docs/python/tf/placeholder) for dropout keep probability.\n",
    " * Name the TensorFlow placeholder \"keep_prob\" using the TensorFlow `name` parameter in the [TF Placeholder](https://www.tensorflow.org/api_docs/python/tf/placeholder).\n",
    "\n",
    "These names will be used at the end of the project to load your saved model.\n",
    "\n",
    "Note: `None` for shapes in TensorFlow allow for a dynamic size."
   ]
  },
  {
   "cell_type": "code",
   "execution_count": 7,
   "metadata": {},
   "outputs": [
    {
     "name": "stdout",
     "output_type": "stream",
     "text": [
      "Image Input Tests Passed.\n",
      "Label Input Tests Passed.\n",
      "Keep Prob Tests Passed.\n"
     ]
    }
   ],
   "source": [
    "import tensorflow as tf\n",
    "\n",
    "def neural_net_image_input(image_shape):\n",
    "    \"\"\"\n",
    "    Return a Tensor for a batch of image input\n",
    "    : image_shape: Shape of the images\n",
    "    : return: Tensor for image input.\n",
    "    \"\"\"\n",
    "    # TODO: Implement Function\n",
    "    return tf.placeholder(tf.float32,(None, *image_shape), name = \"x\")\n",
    "\n",
    "\n",
    "def neural_net_label_input(n_classes):\n",
    "    \"\"\"\n",
    "    Return a Tensor for a batch of label input\n",
    "    : n_classes: Number of classes\n",
    "    : return: Tensor for label input.\n",
    "    \"\"\"\n",
    "    # TODO: Implement Function\n",
    "    return tf.placeholder(tf.float32,(None,n_classes),name=\"y\")\n",
    "\n",
    "\n",
    "def neural_net_keep_prob_input():\n",
    "    \"\"\"\n",
    "    Return a Tensor for keep probability\n",
    "    : return: Tensor for keep probability.\n",
    "    \"\"\"\n",
    "    # TODO: Implement Function\n",
    "    return tf.placeholder(tf.float32,name=\"keep_prob\")\n",
    "\n",
    "\n",
    "\"\"\"\n",
    "DON'T MODIFY ANYTHING IN THIS CELL THAT IS BELOW THIS LINE\n",
    "\"\"\"\n",
    "tf.reset_default_graph()\n",
    "tests.test_nn_image_inputs(neural_net_image_input)\n",
    "tests.test_nn_label_inputs(neural_net_label_input)\n",
    "tests.test_nn_keep_prob_inputs(neural_net_keep_prob_input)"
   ]
  },
  {
   "cell_type": "markdown",
   "metadata": {},
   "source": [
    "### Convolution and Max Pooling Layer\n",
    "Convolution layers have a lot of success with images. For this code cell, you should implement the function `conv2d_maxpool` to apply convolution then max pooling:\n",
    "* Create the weight and bias using `conv_ksize`, `conv_num_outputs` and the shape of `x_tensor`.\n",
    "* Apply a convolution to `x_tensor` using weight and `conv_strides`.\n",
    " * We recommend you use same padding, but you're welcome to use any padding.\n",
    "* Add bias\n",
    "* Add a nonlinear activation to the convolution.\n",
    "* Apply Max Pooling using `pool_ksize` and `pool_strides`.\n",
    " * We recommend you use same padding, but you're welcome to use any padding.\n",
    "\n",
    "**Note:** You **can't** use [TensorFlow Layers](https://www.tensorflow.org/api_docs/python/tf/layers) or [TensorFlow Layers (contrib)](https://www.tensorflow.org/api_guides/python/contrib.layers) for **this** layer, but you can still use TensorFlow's [Neural Network](https://www.tensorflow.org/api_docs/python/tf/nn) package. You may still use the shortcut option for all the **other** layers."
   ]
  },
  {
   "cell_type": "code",
   "execution_count": 8,
   "metadata": {},
   "outputs": [
    {
     "name": "stdout",
     "output_type": "stream",
     "text": [
      "Tests Passed\n"
     ]
    }
   ],
   "source": [
    "def conv2d_maxpool(x_tensor, conv_num_outputs, conv_ksize, conv_strides, pool_ksize, pool_strides):\n",
    "    \"\"\"\n",
    "    Apply convolution then max pooling to x_tensor\n",
    "    :param x_tensor: TensorFlow Tensor\n",
    "    :param conv_num_outputs: Number of outputs for the convolutional layer\n",
    "    :param conv_ksize: kernal size 2-D Tuple for the convolutional layer\n",
    "    :param conv_strides: Stride 2-D Tuple for convolution\n",
    "    :param pool_ksize: kernal size 2-D Tuple for pool\n",
    "    :param pool_strides: Stride 2-D Tuple for pool\n",
    "    : return: A tensor that represents convolution and max pooling of x_tensor\n",
    "    \"\"\"\n",
    "    # TODO: Implement Function\n",
    "    input_shape = int(x_tensor.shape[3])\n",
    "    output_shape = conv_num_outputs\n",
    "    weight_shape = [*conv_ksize, input_shape, output_shape]\n",
    "    w = tf.Variable(tf.random_normal(weight_shape, stddev=0.1))\n",
    "    b = tf.Variable(tf.zeros(output_shape))\n",
    "    \n",
    "    # Initialize the 2d conv layer\n",
    "    conv_net = tf.nn.conv2d(x_tensor, w, [1, *conv_strides, 1], padding=\"SAME\")\n",
    "    \n",
    "    # Add the bias\n",
    "    conv_net = tf.nn.bias_add(conv_net, b)\n",
    "    \n",
    "    # Add nonlinear activiation with relu\n",
    "    conv_net = tf.nn.relu(conv_net)\n",
    "    \n",
    "    # Max pooling\n",
    "    mp_strides = [1, *pool_strides, 1]\n",
    "    mp_ksize = [1, *conv_ksize, 1]\n",
    "    conv_net = tf.nn.max_pool(conv_net, mp_ksize, mp_strides, padding=\"SAME\")\n",
    "    \n",
    "    return conv_net\n",
    "\n",
    "\n",
    "\n",
    "\"\"\"\n",
    "DON'T MODIFY ANYTHING IN THIS CELL THAT IS BELOW THIS LINE\n",
    "\"\"\"\n",
    "tests.test_con_pool(conv2d_maxpool)"
   ]
  },
  {
   "cell_type": "markdown",
   "metadata": {},
   "source": [
    "### Flatten Layer\n",
    "Implement the `flatten` function to change the dimension of `x_tensor` from a 4-D tensor to a 2-D tensor.  The output should be the shape (*Batch Size*, *Flattened Image Size*). Shortcut option: you can use classes from the [TensorFlow Layers](https://www.tensorflow.org/api_docs/python/tf/layers) or [TensorFlow Layers (contrib)](https://www.tensorflow.org/api_guides/python/contrib.layers) packages for this layer. For more of a challenge, only use other TensorFlow packages."
   ]
  },
  {
   "cell_type": "code",
   "execution_count": 9,
   "metadata": {},
   "outputs": [
    {
     "name": "stdout",
     "output_type": "stream",
     "text": [
      "Tests Passed\n"
     ]
    }
   ],
   "source": [
    "def flatten(x_tensor):\n",
    "    \"\"\"\n",
    "    Flatten x_tensor to (Batch Size, Flattened Image Size)\n",
    "    : x_tensor: A tensor of size (Batch Size, ...), where ... are the image dimensions.\n",
    "    : return: A tensor of size (Batch Size, Flattened Image Size).\n",
    "    \"\"\"\n",
    "    # TODO: Implement Function\n",
    "    return tf.contrib.layers.flatten(x_tensor)\n",
    "\n",
    "\n",
    "\n",
    "\"\"\"\n",
    "DON'T MODIFY ANYTHING IN THIS CELL THAT IS BELOW THIS LINE\n",
    "\"\"\"\n",
    "tests.test_flatten(flatten)"
   ]
  },
  {
   "cell_type": "markdown",
   "metadata": {},
   "source": [
    "### Fully-Connected Layer\n",
    "Implement the `fully_conn` function to apply a fully connected layer to `x_tensor` with the shape (*Batch Size*, *num_outputs*). Shortcut option: you can use classes from the [TensorFlow Layers](https://www.tensorflow.org/api_docs/python/tf/layers) or [TensorFlow Layers (contrib)](https://www.tensorflow.org/api_guides/python/contrib.layers) packages for this layer. For more of a challenge, only use other TensorFlow packages."
   ]
  },
  {
   "cell_type": "code",
   "execution_count": 11,
   "metadata": {},
   "outputs": [
    {
     "name": "stdout",
     "output_type": "stream",
     "text": [
      "Tests Passed\n"
     ]
    }
   ],
   "source": [
    "def fully_conn(x_tensor, num_outputs):\n",
    "    \"\"\"\n",
    "    Apply a fully connected layer to x_tensor using weight and bias\n",
    "    : x_tensor: A 2-D tensor where the first dimension is batch size.\n",
    "    : num_outputs: The number of output that the new tensor should be.\n",
    "    : return: A 2-D tensor where the second dimension is num_outputs.\n",
    "    \"\"\"\n",
    "    # TODO: Implement Function\n",
    "    weight_shape = (int(x_tensor.shape[1]), num_outputs)\n",
    "    w = tf.Variable(tf.random_normal(weight_shape, stddev=0.1))\n",
    "    b = tf.Variable(tf.zeros(num_outputs))\n",
    "    layer = tf.add(tf.matmul(x_tensor, w), b)\n",
    "    layer = tf.nn.relu(layer)\n",
    "    return layer\n",
    "\n",
    "\n",
    "\"\"\"\n",
    "DON'T MODIFY ANYTHING IN THIS CELL THAT IS BELOW THIS LINE\n",
    "\"\"\"\n",
    "tests.test_fully_conn(fully_conn)"
   ]
  },
  {
   "cell_type": "markdown",
   "metadata": {},
   "source": [
    "### Output Layer\n",
    "Implement the `output` function to apply a fully connected layer to `x_tensor` with the shape (*Batch Size*, *num_outputs*). Shortcut option: you can use classes from the [TensorFlow Layers](https://www.tensorflow.org/api_docs/python/tf/layers) or [TensorFlow Layers (contrib)](https://www.tensorflow.org/api_guides/python/contrib.layers) packages for this layer. For more of a challenge, only use other TensorFlow packages.\n",
    "\n",
    "**Note:** Activation, softmax, or cross entropy should **not** be applied to this."
   ]
  },
  {
   "cell_type": "code",
   "execution_count": 12,
   "metadata": {},
   "outputs": [
    {
     "name": "stdout",
     "output_type": "stream",
     "text": [
      "Tests Passed\n"
     ]
    }
   ],
   "source": [
    "def output(x_tensor, num_outputs):\n",
    "    \"\"\"\n",
    "    Apply a output layer to x_tensor using weight and bias\n",
    "    : x_tensor: A 2-D tensor where the first dimension is batch size.\n",
    "    : num_outputs: The number of output that the new tensor should be.\n",
    "    : return: A 2-D tensor where the second dimension is num_outputs.\n",
    "    \"\"\"\n",
    "    # TODO: Implement Function\n",
    "    weight_shape = (int(x_tensor.shape[1]), num_outputs)\n",
    "    w = tf.Variable(tf.random_normal(weight_shape, stddev=0.1))\n",
    "    b = tf.Variable(tf.zeros(num_outputs))\n",
    "    layer = tf.add(tf.matmul(x_tensor, w), b)\n",
    "    return layer\n",
    "\n",
    "\"\"\"\n",
    "DON'T MODIFY ANYTHING IN THIS CELL THAT IS BELOW THIS LINE\n",
    "\"\"\"\n",
    "tests.test_output(output)"
   ]
  },
  {
   "cell_type": "markdown",
   "metadata": {},
   "source": [
    "### Create Convolutional Model\n",
    "Implement the function `conv_net` to create a convolutional neural network model. The function takes in a batch of images, `x`, and outputs logits.  Use the layers you created above to create this model:\n",
    "\n",
    "* Apply 1, 2, or 3 Convolution and Max Pool layers\n",
    "* Apply a Flatten Layer\n",
    "* Apply 1, 2, or 3 Fully Connected Layers\n",
    "* Apply an Output Layer\n",
    "* Return the output\n",
    "* Apply [TensorFlow's Dropout](https://www.tensorflow.org/api_docs/python/tf/nn/dropout) to one or more layers in the model using `keep_prob`. "
   ]
  },
  {
   "cell_type": "code",
   "execution_count": 13,
   "metadata": {},
   "outputs": [
    {
     "name": "stdout",
     "output_type": "stream",
     "text": [
      "Neural Network Built!\n"
     ]
    }
   ],
   "source": [
    "def conv_net(x, keep_prob):\n",
    "    \"\"\"\n",
    "    Create a convolutional neural network model\n",
    "    : x: Placeholder tensor that holds image data.\n",
    "    : keep_prob: Placeholder tensor that hold dropout keep probability.\n",
    "    : return: Tensor that represents logits\n",
    "    \"\"\"\n",
    "    # TODO: Apply 1, 2, or 3 Convolution and Max Pool layers\n",
    "    #    Play around with different number of outputs, kernel size and stride\n",
    "    # Function Definition from Above:\n",
    "    #    conv2d_maxpool(x_tensor, conv_num_outputs, conv_ksize, conv_strides, pool_ksize, pool_strides)\n",
    "    conv_num_outputs_layer_1 = 64\n",
    "    conv_ksize_layer_1 = (3, 3)\n",
    "    conv_strides_layer_1 = (1, 1)\n",
    "    pool_ksize_layer_1 = (2, 2)\n",
    "    pool_strides_layer_1 = (2, 2)\n",
    "    \n",
    "    conv_num_outputs_layer_2 = 64\n",
    "    conv_ksize_layer_2 = (3, 3)\n",
    "    conv_strides_layer_2 = (2, 2)\n",
    "    pool_ksize_layer_2 = (2, 2)\n",
    "    pool_strides_layer_2 = (2, 2)\n",
    "    \n",
    "    conv_num_outputs_layer_3 = 64\n",
    "    conv_ksize_layer_3 = (3, 3)\n",
    "    conv_strides_layer_3 = (1, 1)\n",
    "    pool_ksize_layer_3 = (2, 2)\n",
    "    pool_strides_layer_3 = (2, 2)\n",
    "    \n",
    "    fc_layer_1_num_outputs = 512\n",
    "    fc_layer_2_num_outputs = 256\n",
    "    output_num_outputs = 10 # ten classes\n",
    "    \n",
    "    conv_layer_1 = conv2d_maxpool(x,\n",
    "                           conv_num_outputs_layer_1,\n",
    "                           conv_ksize_layer_1,\n",
    "                           conv_strides_layer_1,\n",
    "                           pool_ksize_layer_1,\n",
    "                           pool_strides_layer_1)\n",
    "    conv_layer_2 = conv2d_maxpool(conv_layer_1,\n",
    "                           conv_num_outputs_layer_2,\n",
    "                           conv_ksize_layer_2,\n",
    "                           conv_strides_layer_2,\n",
    "                           pool_ksize_layer_2,\n",
    "                           pool_strides_layer_2)\n",
    "    conv_layer_3 = conv2d_maxpool(conv_layer_2,\n",
    "                           conv_num_outputs_layer_3,\n",
    "                           conv_ksize_layer_3,\n",
    "                           conv_strides_layer_3,\n",
    "                           pool_ksize_layer_3,\n",
    "                           pool_strides_layer_3)\n",
    "\n",
    "\n",
    "    # TODO: Apply a Flatten Layer\n",
    "    # Function Definition from Above:\n",
    "    #   flatten(x_tensor)\n",
    "    \n",
    "    flatten_layer = flatten(conv_layer_3)\n",
    "\n",
    "    # TODO: Apply 1, 2, or 3 Fully Connected Layers\n",
    "    #    Play around with different number of outputs\n",
    "    # Function Definition from Above:\n",
    "    #   fully_conn(x_tensor, num_outputs)\n",
    "    fc_layer_1 = fully_conn(flatten_layer, fc_layer_1_num_outputs)\n",
    "    fc_layer_1 = tf.nn.dropout(fc_layer_1, keep_prob)\n",
    "    fc_layer_2 = fully_conn(fc_layer_1, fc_layer_2_num_outputs)\n",
    "    fc_layer_2 = tf.nn.dropout(fc_layer_2, keep_prob)\n",
    "    \n",
    "    # TODO: Apply an Output Layer\n",
    "    #    Set this to the number of classes\n",
    "    # Function Definition from Above:\n",
    "    #   output(x_tensor, num_outputs)\n",
    "    output_layer = output(fc_layer_2, output_num_outputs)\n",
    "    \n",
    "    # TODO: return output\n",
    "    return output_layer\n",
    "\n",
    "\n",
    "\"\"\"\n",
    "DON'T MODIFY ANYTHING IN THIS CELL THAT IS BELOW THIS LINE\n",
    "\"\"\"\n",
    "\n",
    "##############################\n",
    "## Build the Neural Network ##\n",
    "##############################\n",
    "\n",
    "# Remove previous weights, bias, inputs, etc..\n",
    "tf.reset_default_graph()\n",
    "\n",
    "# Inputs\n",
    "x = neural_net_image_input((32, 32, 3))\n",
    "y = neural_net_label_input(10)\n",
    "keep_prob = neural_net_keep_prob_input()\n",
    "\n",
    "# Model\n",
    "logits = conv_net(x, keep_prob)\n",
    "\n",
    "# Name logits Tensor, so that is can be loaded from disk after training\n",
    "logits = tf.identity(logits, name='logits')\n",
    "\n",
    "# Loss and Optimizer\n",
    "cost = tf.reduce_mean(tf.nn.softmax_cross_entropy_with_logits(logits=logits, labels=y))\n",
    "optimizer = tf.train.AdamOptimizer().minimize(cost)\n",
    "\n",
    "# Accuracy\n",
    "correct_pred = tf.equal(tf.argmax(logits, 1), tf.argmax(y, 1))\n",
    "accuracy = tf.reduce_mean(tf.cast(correct_pred, tf.float32), name='accuracy')\n",
    "\n",
    "tests.test_conv_net(conv_net)"
   ]
  },
  {
   "cell_type": "markdown",
   "metadata": {},
   "source": [
    "## Train the Neural Network\n",
    "### Single Optimization\n",
    "Implement the function `train_neural_network` to do a single optimization.  The optimization should use `optimizer` to optimize in `session` with a `feed_dict` of the following:\n",
    "* `x` for image input\n",
    "* `y` for labels\n",
    "* `keep_prob` for keep probability for dropout\n",
    "\n",
    "This function will be called for each batch, so `tf.global_variables_initializer()` has already been called.\n",
    "\n",
    "Note: Nothing needs to be returned. This function is only optimizing the neural network."
   ]
  },
  {
   "cell_type": "code",
   "execution_count": 14,
   "metadata": {},
   "outputs": [
    {
     "name": "stdout",
     "output_type": "stream",
     "text": [
      "Tests Passed\n"
     ]
    }
   ],
   "source": [
    "def train_neural_network(session, optimizer, keep_probability, feature_batch, label_batch):\n",
    "    \"\"\"\n",
    "    Optimize the session on a batch of images and labels\n",
    "    : session: Current TensorFlow session\n",
    "    : optimizer: TensorFlow optimizer function\n",
    "    : keep_probability: keep probability\n",
    "    : feature_batch: Batch of Numpy image data\n",
    "    : label_batch: Batch of Numpy label data\n",
    "    \"\"\"\n",
    "    # TODO: Implement Function\n",
    "    feed_dict = { x: feature_batch, y: label_batch, keep_prob: keep_probability }\n",
    "    session.run(optimizer, feed_dict=feed_dict)\n",
    "\n",
    "\n",
    "\n",
    "\"\"\"\n",
    "DON'T MODIFY ANYTHING IN THIS CELL THAT IS BELOW THIS LINE\n",
    "\"\"\"\n",
    "tests.test_train_nn(train_neural_network)"
   ]
  },
  {
   "cell_type": "markdown",
   "metadata": {},
   "source": [
    "### Show Stats\n",
    "Implement the function `print_stats` to print loss and validation accuracy.  Use the global variables `valid_features` and `valid_labels` to calculate validation accuracy.  Use a keep probability of `1.0` to calculate the loss and validation accuracy."
   ]
  },
  {
   "cell_type": "code",
   "execution_count": 15,
   "metadata": {
    "collapsed": true
   },
   "outputs": [],
   "source": [
    "def print_stats(session, feature_batch, label_batch, cost, accuracy):\n",
    "    \"\"\"\n",
    "    Print information about loss and validation accuracy\n",
    "    : session: Current TensorFlow session\n",
    "    : feature_batch: Batch of Numpy image data\n",
    "    : label_batch: Batch of Numpy label data\n",
    "    : cost: TensorFlow cost function\n",
    "    : accuracy: TensorFlow accuracy function\n",
    "    \"\"\"\n",
    "    # TODO: Implement Function\n",
    "    feed_dict_loss = { x: feature_batch, y: label_batch, keep_prob: 1.0 }\n",
    "    loss = session.run(cost, feed_dict=feed_dict_loss)\n",
    "    \n",
    "    feed_dict_accuracy = { x: valid_features, y: valid_labels, keep_prob: 1.0 }\n",
    "    valid_accuracy = session.run(accuracy, feed_dict=feed_dict_accuracy)\n",
    "    \n",
    "    print('Loss: {:.4f} Validation Accuracy: {:.4f}'.format(loss, valid_accuracy))\n"
   ]
  },
  {
   "cell_type": "markdown",
   "metadata": {},
   "source": [
    "### Hyperparameters\n",
    "Tune the following parameters:\n",
    "* Set `epochs` to the number of iterations until the network stops learning or start overfitting\n",
    "* Set `batch_size` to the highest number that your machine has memory for.  Most people set them to common sizes of memory:\n",
    " * 64\n",
    " * 128\n",
    " * 256\n",
    " * ...\n",
    "* Set `keep_probability` to the probability of keeping a node using dropout"
   ]
  },
  {
   "cell_type": "code",
   "execution_count": 16,
   "metadata": {
    "collapsed": true
   },
   "outputs": [],
   "source": [
    "# TODO: Tune Parameters\n",
    "epochs = 50\n",
    "batch_size = 256\n",
    "keep_probability = 0.7"
   ]
  },
  {
   "cell_type": "markdown",
   "metadata": {},
   "source": [
    "### Train on a Single CIFAR-10 Batch\n",
    "Instead of training the neural network on all the CIFAR-10 batches of data, let's use a single batch. This should save time while you iterate on the model to get a better accuracy.  Once the final validation accuracy is 50% or greater, run the model on all the data in the next section."
   ]
  },
  {
   "cell_type": "code",
   "execution_count": 17,
   "metadata": {},
   "outputs": [
    {
     "name": "stdout",
     "output_type": "stream",
     "text": [
      "Checking the Training on a Single Batch...\n",
      "Epoch  1, CIFAR-10 Batch 1:  Loss: 2.0692 Validation Accuracy: 0.3016\n",
      "Epoch  2, CIFAR-10 Batch 1:  Loss: 1.8258 Validation Accuracy: 0.3778\n",
      "Epoch  3, CIFAR-10 Batch 1:  Loss: 1.5387 Validation Accuracy: 0.3986\n",
      "Epoch  4, CIFAR-10 Batch 1:  Loss: 1.4060 Validation Accuracy: 0.4274\n",
      "Epoch  5, CIFAR-10 Batch 1:  Loss: 1.1531 Validation Accuracy: 0.4636\n",
      "Epoch  6, CIFAR-10 Batch 1:  Loss: 1.0212 Validation Accuracy: 0.4874\n",
      "Epoch  7, CIFAR-10 Batch 1:  Loss: 0.9149 Validation Accuracy: 0.5072\n",
      "Epoch  8, CIFAR-10 Batch 1:  Loss: 0.8648 Validation Accuracy: 0.5170\n",
      "Epoch  9, CIFAR-10 Batch 1:  Loss: 0.7345 Validation Accuracy: 0.5210\n",
      "Epoch 10, CIFAR-10 Batch 1:  Loss: 0.6697 Validation Accuracy: 0.5126\n",
      "Epoch 11, CIFAR-10 Batch 1:  Loss: 0.5609 Validation Accuracy: 0.5420\n",
      "Epoch 12, CIFAR-10 Batch 1:  Loss: 0.6113 Validation Accuracy: 0.4920\n",
      "Epoch 13, CIFAR-10 Batch 1:  Loss: 0.4427 Validation Accuracy: 0.5398\n",
      "Epoch 14, CIFAR-10 Batch 1:  Loss: 0.4300 Validation Accuracy: 0.5504\n",
      "Epoch 15, CIFAR-10 Batch 1:  Loss: 0.3794 Validation Accuracy: 0.5396\n",
      "Epoch 16, CIFAR-10 Batch 1:  Loss: 0.3413 Validation Accuracy: 0.5312\n",
      "Epoch 17, CIFAR-10 Batch 1:  Loss: 0.3085 Validation Accuracy: 0.5400\n",
      "Epoch 18, CIFAR-10 Batch 1:  Loss: 0.3120 Validation Accuracy: 0.5448\n",
      "Epoch 19, CIFAR-10 Batch 1:  Loss: 0.2519 Validation Accuracy: 0.5316\n",
      "Epoch 20, CIFAR-10 Batch 1:  Loss: 0.1928 Validation Accuracy: 0.5582\n",
      "Epoch 21, CIFAR-10 Batch 1:  Loss: 0.2148 Validation Accuracy: 0.5546\n",
      "Epoch 22, CIFAR-10 Batch 1:  Loss: 0.2257 Validation Accuracy: 0.5530\n",
      "Epoch 23, CIFAR-10 Batch 1:  Loss: 0.1748 Validation Accuracy: 0.5474\n",
      "Epoch 24, CIFAR-10 Batch 1:  Loss: 0.1352 Validation Accuracy: 0.5680\n",
      "Epoch 25, CIFAR-10 Batch 1:  Loss: 0.1154 Validation Accuracy: 0.5626\n",
      "Epoch 26, CIFAR-10 Batch 1:  Loss: 0.0987 Validation Accuracy: 0.5706\n",
      "Epoch 27, CIFAR-10 Batch 1:  Loss: 0.0800 Validation Accuracy: 0.5642\n",
      "Epoch 28, CIFAR-10 Batch 1:  Loss: 0.1260 Validation Accuracy: 0.5640\n",
      "Epoch 29, CIFAR-10 Batch 1:  Loss: 0.0882 Validation Accuracy: 0.5596\n",
      "Epoch 30, CIFAR-10 Batch 1:  Loss: 0.0624 Validation Accuracy: 0.5710\n",
      "Epoch 31, CIFAR-10 Batch 1:  Loss: 0.0628 Validation Accuracy: 0.5496\n",
      "Epoch 32, CIFAR-10 Batch 1:  Loss: 0.0614 Validation Accuracy: 0.5702\n",
      "Epoch 33, CIFAR-10 Batch 1:  Loss: 0.0738 Validation Accuracy: 0.5596\n",
      "Epoch 34, CIFAR-10 Batch 1:  Loss: 0.0631 Validation Accuracy: 0.5664\n",
      "Epoch 35, CIFAR-10 Batch 1:  Loss: 0.0523 Validation Accuracy: 0.5738\n",
      "Epoch 36, CIFAR-10 Batch 1:  Loss: 0.0587 Validation Accuracy: 0.5722\n",
      "Epoch 37, CIFAR-10 Batch 1:  Loss: 0.0704 Validation Accuracy: 0.5596\n",
      "Epoch 38, CIFAR-10 Batch 1:  Loss: 0.0317 Validation Accuracy: 0.5712\n",
      "Epoch 39, CIFAR-10 Batch 1:  Loss: 0.0447 Validation Accuracy: 0.5674\n",
      "Epoch 40, CIFAR-10 Batch 1:  Loss: 0.0584 Validation Accuracy: 0.5398\n",
      "Epoch 41, CIFAR-10 Batch 1:  Loss: 0.0565 Validation Accuracy: 0.5666\n",
      "Epoch 42, CIFAR-10 Batch 1:  Loss: 0.0218 Validation Accuracy: 0.5642\n",
      "Epoch 43, CIFAR-10 Batch 1:  Loss: 0.0435 Validation Accuracy: 0.5480\n",
      "Epoch 44, CIFAR-10 Batch 1:  Loss: 0.0287 Validation Accuracy: 0.5642\n",
      "Epoch 45, CIFAR-10 Batch 1:  Loss: 0.0326 Validation Accuracy: 0.5484\n",
      "Epoch 46, CIFAR-10 Batch 1:  Loss: 0.0306 Validation Accuracy: 0.5458\n",
      "Epoch 47, CIFAR-10 Batch 1:  Loss: 0.0206 Validation Accuracy: 0.5642\n",
      "Epoch 48, CIFAR-10 Batch 1:  Loss: 0.0154 Validation Accuracy: 0.5616\n",
      "Epoch 49, CIFAR-10 Batch 1:  Loss: 0.0147 Validation Accuracy: 0.5682\n",
      "Epoch 50, CIFAR-10 Batch 1:  Loss: 0.0117 Validation Accuracy: 0.5692\n"
     ]
    }
   ],
   "source": [
    "\"\"\"\n",
    "DON'T MODIFY ANYTHING IN THIS CELL\n",
    "\"\"\"\n",
    "print('Checking the Training on a Single Batch...')\n",
    "with tf.Session() as sess:\n",
    "    # Initializing the variables\n",
    "    sess.run(tf.global_variables_initializer())\n",
    "    \n",
    "    # Training cycle\n",
    "    for epoch in range(epochs):\n",
    "        batch_i = 1\n",
    "        for batch_features, batch_labels in helper.load_preprocess_training_batch(batch_i, batch_size):\n",
    "            train_neural_network(sess, optimizer, keep_probability, batch_features, batch_labels)\n",
    "        print('Epoch {:>2}, CIFAR-10 Batch {}:  '.format(epoch + 1, batch_i), end='')\n",
    "        print_stats(sess, batch_features, batch_labels, cost, accuracy)"
   ]
  },
  {
   "cell_type": "markdown",
   "metadata": {},
   "source": [
    "### Fully Train the Model\n",
    "Now that you got a good accuracy with a single CIFAR-10 batch, try it with all five batches."
   ]
  },
  {
   "cell_type": "code",
   "execution_count": 18,
   "metadata": {},
   "outputs": [
    {
     "name": "stdout",
     "output_type": "stream",
     "text": [
      "Training...\n",
      "Epoch  1, CIFAR-10 Batch 1:  Loss: 2.0692 Validation Accuracy: 0.2592\n",
      "Epoch  1, CIFAR-10 Batch 2:  Loss: 1.7616 Validation Accuracy: 0.3418\n",
      "Epoch  1, CIFAR-10 Batch 3:  Loss: 1.4726 Validation Accuracy: 0.3968\n",
      "Epoch  1, CIFAR-10 Batch 4:  Loss: 1.4363 Validation Accuracy: 0.4082\n",
      "Epoch  1, CIFAR-10 Batch 5:  Loss: 1.3322 Validation Accuracy: 0.4658\n",
      "Epoch  2, CIFAR-10 Batch 1:  Loss: 1.4004 Validation Accuracy: 0.4866\n",
      "Epoch  2, CIFAR-10 Batch 2:  Loss: 1.3602 Validation Accuracy: 0.4518\n",
      "Epoch  2, CIFAR-10 Batch 3:  Loss: 1.0953 Validation Accuracy: 0.4820\n",
      "Epoch  2, CIFAR-10 Batch 4:  Loss: 1.1397 Validation Accuracy: 0.5028\n",
      "Epoch  2, CIFAR-10 Batch 5:  Loss: 1.0859 Validation Accuracy: 0.5222\n",
      "Epoch  3, CIFAR-10 Batch 1:  Loss: 1.0717 Validation Accuracy: 0.5448\n",
      "Epoch  3, CIFAR-10 Batch 2:  Loss: 1.0888 Validation Accuracy: 0.5250\n",
      "Epoch  3, CIFAR-10 Batch 3:  Loss: 0.8872 Validation Accuracy: 0.5328\n",
      "Epoch  3, CIFAR-10 Batch 4:  Loss: 0.9787 Validation Accuracy: 0.5506\n",
      "Epoch  3, CIFAR-10 Batch 5:  Loss: 0.9717 Validation Accuracy: 0.5408\n",
      "Epoch  4, CIFAR-10 Batch 1:  Loss: 0.9293 Validation Accuracy: 0.5676\n",
      "Epoch  4, CIFAR-10 Batch 2:  Loss: 0.9449 Validation Accuracy: 0.5828\n",
      "Epoch  4, CIFAR-10 Batch 3:  Loss: 0.7296 Validation Accuracy: 0.5642\n",
      "Epoch  4, CIFAR-10 Batch 4:  Loss: 0.8731 Validation Accuracy: 0.5794\n",
      "Epoch  4, CIFAR-10 Batch 5:  Loss: 0.8370 Validation Accuracy: 0.5874\n",
      "Epoch  5, CIFAR-10 Batch 1:  Loss: 0.8035 Validation Accuracy: 0.5996\n",
      "Epoch  5, CIFAR-10 Batch 2:  Loss: 0.8453 Validation Accuracy: 0.5972\n",
      "Epoch  5, CIFAR-10 Batch 3:  Loss: 0.6473 Validation Accuracy: 0.5822\n",
      "Epoch  5, CIFAR-10 Batch 4:  Loss: 0.6965 Validation Accuracy: 0.5890\n",
      "Epoch  5, CIFAR-10 Batch 5:  Loss: 0.6672 Validation Accuracy: 0.6094\n",
      "Epoch  6, CIFAR-10 Batch 1:  Loss: 0.7286 Validation Accuracy: 0.6150\n",
      "Epoch  6, CIFAR-10 Batch 2:  Loss: 0.6652 Validation Accuracy: 0.6090\n",
      "Epoch  6, CIFAR-10 Batch 3:  Loss: 0.5584 Validation Accuracy: 0.6062\n",
      "Epoch  6, CIFAR-10 Batch 4:  Loss: 0.6153 Validation Accuracy: 0.6006\n",
      "Epoch  6, CIFAR-10 Batch 5:  Loss: 0.5311 Validation Accuracy: 0.6350\n",
      "Epoch  7, CIFAR-10 Batch 1:  Loss: 0.6275 Validation Accuracy: 0.6324\n",
      "Epoch  7, CIFAR-10 Batch 2:  Loss: 0.5518 Validation Accuracy: 0.6376\n",
      "Epoch  7, CIFAR-10 Batch 3:  Loss: 0.4616 Validation Accuracy: 0.6196\n",
      "Epoch  7, CIFAR-10 Batch 4:  Loss: 0.5458 Validation Accuracy: 0.6370\n",
      "Epoch  7, CIFAR-10 Batch 5:  Loss: 0.4218 Validation Accuracy: 0.6518\n",
      "Epoch  8, CIFAR-10 Batch 1:  Loss: 0.5929 Validation Accuracy: 0.6370\n",
      "Epoch  8, CIFAR-10 Batch 2:  Loss: 0.4749 Validation Accuracy: 0.6426\n",
      "Epoch  8, CIFAR-10 Batch 3:  Loss: 0.4297 Validation Accuracy: 0.6394\n",
      "Epoch  8, CIFAR-10 Batch 4:  Loss: 0.4813 Validation Accuracy: 0.6554\n",
      "Epoch  8, CIFAR-10 Batch 5:  Loss: 0.3692 Validation Accuracy: 0.6578\n",
      "Epoch  9, CIFAR-10 Batch 1:  Loss: 0.5288 Validation Accuracy: 0.6462\n",
      "Epoch  9, CIFAR-10 Batch 2:  Loss: 0.4396 Validation Accuracy: 0.6534\n",
      "Epoch  9, CIFAR-10 Batch 3:  Loss: 0.3346 Validation Accuracy: 0.6542\n",
      "Epoch  9, CIFAR-10 Batch 4:  Loss: 0.4023 Validation Accuracy: 0.6442\n",
      "Epoch  9, CIFAR-10 Batch 5:  Loss: 0.3228 Validation Accuracy: 0.6562\n",
      "Epoch 10, CIFAR-10 Batch 1:  Loss: 0.4612 Validation Accuracy: 0.6656\n",
      "Epoch 10, CIFAR-10 Batch 2:  Loss: 0.3988 Validation Accuracy: 0.6590\n",
      "Epoch 10, CIFAR-10 Batch 3:  Loss: 0.2984 Validation Accuracy: 0.6540\n",
      "Epoch 10, CIFAR-10 Batch 4:  Loss: 0.3017 Validation Accuracy: 0.6650\n",
      "Epoch 10, CIFAR-10 Batch 5:  Loss: 0.2907 Validation Accuracy: 0.6642\n",
      "Epoch 11, CIFAR-10 Batch 1:  Loss: 0.4415 Validation Accuracy: 0.6676\n",
      "Epoch 11, CIFAR-10 Batch 2:  Loss: 0.3651 Validation Accuracy: 0.6604\n",
      "Epoch 11, CIFAR-10 Batch 3:  Loss: 0.2445 Validation Accuracy: 0.6616\n",
      "Epoch 11, CIFAR-10 Batch 4:  Loss: 0.3033 Validation Accuracy: 0.6706\n",
      "Epoch 11, CIFAR-10 Batch 5:  Loss: 0.2582 Validation Accuracy: 0.6778\n",
      "Epoch 12, CIFAR-10 Batch 1:  Loss: 0.3986 Validation Accuracy: 0.6738\n",
      "Epoch 12, CIFAR-10 Batch 2:  Loss: 0.2975 Validation Accuracy: 0.6728\n",
      "Epoch 12, CIFAR-10 Batch 3:  Loss: 0.2157 Validation Accuracy: 0.6766\n",
      "Epoch 12, CIFAR-10 Batch 4:  Loss: 0.2281 Validation Accuracy: 0.6784\n",
      "Epoch 12, CIFAR-10 Batch 5:  Loss: 0.2161 Validation Accuracy: 0.6888\n",
      "Epoch 13, CIFAR-10 Batch 1:  Loss: 0.3572 Validation Accuracy: 0.6854\n",
      "Epoch 13, CIFAR-10 Batch 2:  Loss: 0.2618 Validation Accuracy: 0.6846\n",
      "Epoch 13, CIFAR-10 Batch 3:  Loss: 0.1755 Validation Accuracy: 0.6886\n",
      "Epoch 13, CIFAR-10 Batch 4:  Loss: 0.2130 Validation Accuracy: 0.6750\n",
      "Epoch 13, CIFAR-10 Batch 5:  Loss: 0.1976 Validation Accuracy: 0.6762\n",
      "Epoch 14, CIFAR-10 Batch 1:  Loss: 0.3119 Validation Accuracy: 0.6692\n",
      "Epoch 14, CIFAR-10 Batch 2:  Loss: 0.2336 Validation Accuracy: 0.6856\n",
      "Epoch 14, CIFAR-10 Batch 3:  Loss: 0.1670 Validation Accuracy: 0.6820\n",
      "Epoch 14, CIFAR-10 Batch 4:  Loss: 0.1715 Validation Accuracy: 0.6834\n",
      "Epoch 14, CIFAR-10 Batch 5:  Loss: 0.1641 Validation Accuracy: 0.6976\n",
      "Epoch 15, CIFAR-10 Batch 1:  Loss: 0.2532 Validation Accuracy: 0.6828\n",
      "Epoch 15, CIFAR-10 Batch 2:  Loss: 0.1989 Validation Accuracy: 0.6922\n",
      "Epoch 15, CIFAR-10 Batch 3:  Loss: 0.1474 Validation Accuracy: 0.6928\n",
      "Epoch 15, CIFAR-10 Batch 4:  Loss: 0.1583 Validation Accuracy: 0.6786\n",
      "Epoch 15, CIFAR-10 Batch 5:  Loss: 0.1491 Validation Accuracy: 0.6972\n",
      "Epoch 16, CIFAR-10 Batch 1:  Loss: 0.2566 Validation Accuracy: 0.6680\n",
      "Epoch 16, CIFAR-10 Batch 2:  Loss: 0.1819 Validation Accuracy: 0.7000\n",
      "Epoch 16, CIFAR-10 Batch 3:  Loss: 0.1303 Validation Accuracy: 0.6870\n",
      "Epoch 16, CIFAR-10 Batch 4:  Loss: 0.1387 Validation Accuracy: 0.6720\n",
      "Epoch 16, CIFAR-10 Batch 5:  Loss: 0.1317 Validation Accuracy: 0.7030\n",
      "Epoch 17, CIFAR-10 Batch 1:  Loss: 0.1800 Validation Accuracy: 0.6864\n",
      "Epoch 17, CIFAR-10 Batch 2:  Loss: 0.1870 Validation Accuracy: 0.6916\n",
      "Epoch 17, CIFAR-10 Batch 3:  Loss: 0.1049 Validation Accuracy: 0.6906\n",
      "Epoch 17, CIFAR-10 Batch 4:  Loss: 0.1110 Validation Accuracy: 0.6942\n",
      "Epoch 17, CIFAR-10 Batch 5:  Loss: 0.1361 Validation Accuracy: 0.6878\n",
      "Epoch 18, CIFAR-10 Batch 1:  Loss: 0.1866 Validation Accuracy: 0.6848\n",
      "Epoch 18, CIFAR-10 Batch 2:  Loss: 0.1620 Validation Accuracy: 0.6880\n",
      "Epoch 18, CIFAR-10 Batch 3:  Loss: 0.0942 Validation Accuracy: 0.7098\n",
      "Epoch 18, CIFAR-10 Batch 4:  Loss: 0.0984 Validation Accuracy: 0.6896\n",
      "Epoch 18, CIFAR-10 Batch 5:  Loss: 0.1247 Validation Accuracy: 0.6884\n",
      "Epoch 19, CIFAR-10 Batch 1:  Loss: 0.1446 Validation Accuracy: 0.6984\n",
      "Epoch 19, CIFAR-10 Batch 2:  Loss: 0.1259 Validation Accuracy: 0.6896\n",
      "Epoch 19, CIFAR-10 Batch 3:  Loss: 0.0792 Validation Accuracy: 0.6932\n",
      "Epoch 19, CIFAR-10 Batch 4:  Loss: 0.0907 Validation Accuracy: 0.6804\n",
      "Epoch 19, CIFAR-10 Batch 5:  Loss: 0.0985 Validation Accuracy: 0.6912\n",
      "Epoch 20, CIFAR-10 Batch 1:  Loss: 0.1318 Validation Accuracy: 0.6928\n",
      "Epoch 20, CIFAR-10 Batch 2:  Loss: 0.1459 Validation Accuracy: 0.6926\n",
      "Epoch 20, CIFAR-10 Batch 3:  Loss: 0.0882 Validation Accuracy: 0.6894\n",
      "Epoch 20, CIFAR-10 Batch 4:  Loss: 0.0857 Validation Accuracy: 0.6720\n",
      "Epoch 20, CIFAR-10 Batch 5:  Loss: 0.0876 Validation Accuracy: 0.6980\n",
      "Epoch 21, CIFAR-10 Batch 1:  Loss: 0.1071 Validation Accuracy: 0.7010\n",
      "Epoch 21, CIFAR-10 Batch 2:  Loss: 0.0949 Validation Accuracy: 0.6784\n",
      "Epoch 21, CIFAR-10 Batch 3:  Loss: 0.0822 Validation Accuracy: 0.6802\n",
      "Epoch 21, CIFAR-10 Batch 4:  Loss: 0.1021 Validation Accuracy: 0.6656\n",
      "Epoch 21, CIFAR-10 Batch 5:  Loss: 0.0662 Validation Accuracy: 0.6970\n",
      "Epoch 22, CIFAR-10 Batch 1:  Loss: 0.1180 Validation Accuracy: 0.6834\n",
      "Epoch 22, CIFAR-10 Batch 2:  Loss: 0.1197 Validation Accuracy: 0.6662\n",
      "Epoch 22, CIFAR-10 Batch 3:  Loss: 0.0584 Validation Accuracy: 0.6840\n",
      "Epoch 22, CIFAR-10 Batch 4:  Loss: 0.1101 Validation Accuracy: 0.6648\n",
      "Epoch 22, CIFAR-10 Batch 5:  Loss: 0.1030 Validation Accuracy: 0.6890\n",
      "Epoch 23, CIFAR-10 Batch 1:  Loss: 0.1296 Validation Accuracy: 0.6852\n",
      "Epoch 23, CIFAR-10 Batch 2:  Loss: 0.0705 Validation Accuracy: 0.6920\n",
      "Epoch 23, CIFAR-10 Batch 3:  Loss: 0.0652 Validation Accuracy: 0.6912\n",
      "Epoch 23, CIFAR-10 Batch 4:  Loss: 0.0714 Validation Accuracy: 0.6734\n",
      "Epoch 23, CIFAR-10 Batch 5:  Loss: 0.0631 Validation Accuracy: 0.6914\n",
      "Epoch 24, CIFAR-10 Batch 1:  Loss: 0.0839 Validation Accuracy: 0.7050\n",
      "Epoch 24, CIFAR-10 Batch 2:  Loss: 0.0920 Validation Accuracy: 0.6960\n"
     ]
    },
    {
     "name": "stdout",
     "output_type": "stream",
     "text": [
      "Epoch 24, CIFAR-10 Batch 3:  Loss: 0.0525 Validation Accuracy: 0.6940\n",
      "Epoch 24, CIFAR-10 Batch 4:  Loss: 0.0496 Validation Accuracy: 0.7004\n",
      "Epoch 24, CIFAR-10 Batch 5:  Loss: 0.0744 Validation Accuracy: 0.6878\n",
      "Epoch 25, CIFAR-10 Batch 1:  Loss: 0.0816 Validation Accuracy: 0.7068\n",
      "Epoch 25, CIFAR-10 Batch 2:  Loss: 0.0588 Validation Accuracy: 0.7084\n",
      "Epoch 25, CIFAR-10 Batch 3:  Loss: 0.0408 Validation Accuracy: 0.7024\n",
      "Epoch 25, CIFAR-10 Batch 4:  Loss: 0.0439 Validation Accuracy: 0.6956\n",
      "Epoch 25, CIFAR-10 Batch 5:  Loss: 0.0366 Validation Accuracy: 0.7116\n",
      "Epoch 26, CIFAR-10 Batch 1:  Loss: 0.0851 Validation Accuracy: 0.6952\n",
      "Epoch 26, CIFAR-10 Batch 2:  Loss: 0.0470 Validation Accuracy: 0.7076\n",
      "Epoch 26, CIFAR-10 Batch 3:  Loss: 0.0319 Validation Accuracy: 0.6876\n",
      "Epoch 26, CIFAR-10 Batch 4:  Loss: 0.0401 Validation Accuracy: 0.6918\n",
      "Epoch 26, CIFAR-10 Batch 5:  Loss: 0.0387 Validation Accuracy: 0.6994\n",
      "Epoch 27, CIFAR-10 Batch 1:  Loss: 0.0512 Validation Accuracy: 0.7132\n",
      "Epoch 27, CIFAR-10 Batch 2:  Loss: 0.0691 Validation Accuracy: 0.7084\n",
      "Epoch 27, CIFAR-10 Batch 3:  Loss: 0.0298 Validation Accuracy: 0.7034\n",
      "Epoch 27, CIFAR-10 Batch 4:  Loss: 0.0327 Validation Accuracy: 0.7004\n",
      "Epoch 27, CIFAR-10 Batch 5:  Loss: 0.0382 Validation Accuracy: 0.6930\n",
      "Epoch 28, CIFAR-10 Batch 1:  Loss: 0.0585 Validation Accuracy: 0.7076\n",
      "Epoch 28, CIFAR-10 Batch 2:  Loss: 0.0547 Validation Accuracy: 0.7014\n",
      "Epoch 28, CIFAR-10 Batch 3:  Loss: 0.0247 Validation Accuracy: 0.6996\n",
      "Epoch 28, CIFAR-10 Batch 4:  Loss: 0.0437 Validation Accuracy: 0.6892\n",
      "Epoch 28, CIFAR-10 Batch 5:  Loss: 0.0308 Validation Accuracy: 0.6996\n",
      "Epoch 29, CIFAR-10 Batch 1:  Loss: 0.0449 Validation Accuracy: 0.7100\n",
      "Epoch 29, CIFAR-10 Batch 2:  Loss: 0.0487 Validation Accuracy: 0.7110\n",
      "Epoch 29, CIFAR-10 Batch 3:  Loss: 0.0286 Validation Accuracy: 0.7094\n",
      "Epoch 29, CIFAR-10 Batch 4:  Loss: 0.0304 Validation Accuracy: 0.6972\n",
      "Epoch 29, CIFAR-10 Batch 5:  Loss: 0.0209 Validation Accuracy: 0.7094\n",
      "Epoch 30, CIFAR-10 Batch 1:  Loss: 0.0392 Validation Accuracy: 0.7140\n",
      "Epoch 30, CIFAR-10 Batch 2:  Loss: 0.0811 Validation Accuracy: 0.6884\n",
      "Epoch 30, CIFAR-10 Batch 3:  Loss: 0.0239 Validation Accuracy: 0.7114\n",
      "Epoch 30, CIFAR-10 Batch 4:  Loss: 0.0429 Validation Accuracy: 0.7004\n",
      "Epoch 30, CIFAR-10 Batch 5:  Loss: 0.0255 Validation Accuracy: 0.7102\n",
      "Epoch 31, CIFAR-10 Batch 1:  Loss: 0.0368 Validation Accuracy: 0.6974\n",
      "Epoch 31, CIFAR-10 Batch 2:  Loss: 0.0576 Validation Accuracy: 0.6890\n",
      "Epoch 31, CIFAR-10 Batch 3:  Loss: 0.0304 Validation Accuracy: 0.7004\n",
      "Epoch 31, CIFAR-10 Batch 4:  Loss: 0.0430 Validation Accuracy: 0.6884\n",
      "Epoch 31, CIFAR-10 Batch 5:  Loss: 0.0220 Validation Accuracy: 0.7122\n",
      "Epoch 32, CIFAR-10 Batch 1:  Loss: 0.0360 Validation Accuracy: 0.7108\n",
      "Epoch 32, CIFAR-10 Batch 2:  Loss: 0.0489 Validation Accuracy: 0.6974\n",
      "Epoch 32, CIFAR-10 Batch 3:  Loss: 0.0321 Validation Accuracy: 0.7020\n",
      "Epoch 32, CIFAR-10 Batch 4:  Loss: 0.0320 Validation Accuracy: 0.6884\n",
      "Epoch 32, CIFAR-10 Batch 5:  Loss: 0.0449 Validation Accuracy: 0.6920\n",
      "Epoch 33, CIFAR-10 Batch 1:  Loss: 0.0396 Validation Accuracy: 0.7112\n",
      "Epoch 33, CIFAR-10 Batch 2:  Loss: 0.0573 Validation Accuracy: 0.6752\n",
      "Epoch 33, CIFAR-10 Batch 3:  Loss: 0.0296 Validation Accuracy: 0.6980\n",
      "Epoch 33, CIFAR-10 Batch 4:  Loss: 0.0318 Validation Accuracy: 0.6884\n",
      "Epoch 33, CIFAR-10 Batch 5:  Loss: 0.0264 Validation Accuracy: 0.6964\n",
      "Epoch 34, CIFAR-10 Batch 1:  Loss: 0.0360 Validation Accuracy: 0.7012\n",
      "Epoch 34, CIFAR-10 Batch 2:  Loss: 0.0468 Validation Accuracy: 0.6992\n",
      "Epoch 34, CIFAR-10 Batch 3:  Loss: 0.0354 Validation Accuracy: 0.6876\n",
      "Epoch 34, CIFAR-10 Batch 4:  Loss: 0.0214 Validation Accuracy: 0.6890\n",
      "Epoch 34, CIFAR-10 Batch 5:  Loss: 0.0199 Validation Accuracy: 0.7102\n",
      "Epoch 35, CIFAR-10 Batch 1:  Loss: 0.0300 Validation Accuracy: 0.6954\n",
      "Epoch 35, CIFAR-10 Batch 2:  Loss: 0.0516 Validation Accuracy: 0.6960\n",
      "Epoch 35, CIFAR-10 Batch 3:  Loss: 0.0351 Validation Accuracy: 0.6848\n",
      "Epoch 35, CIFAR-10 Batch 4:  Loss: 0.0243 Validation Accuracy: 0.6916\n",
      "Epoch 35, CIFAR-10 Batch 5:  Loss: 0.0260 Validation Accuracy: 0.7066\n",
      "Epoch 36, CIFAR-10 Batch 1:  Loss: 0.0393 Validation Accuracy: 0.6844\n",
      "Epoch 36, CIFAR-10 Batch 2:  Loss: 0.0711 Validation Accuracy: 0.6772\n",
      "Epoch 36, CIFAR-10 Batch 3:  Loss: 0.0451 Validation Accuracy: 0.6742\n",
      "Epoch 36, CIFAR-10 Batch 4:  Loss: 0.0337 Validation Accuracy: 0.6854\n",
      "Epoch 36, CIFAR-10 Batch 5:  Loss: 0.0228 Validation Accuracy: 0.7112\n",
      "Epoch 37, CIFAR-10 Batch 1:  Loss: 0.0441 Validation Accuracy: 0.6872\n",
      "Epoch 37, CIFAR-10 Batch 2:  Loss: 0.0471 Validation Accuracy: 0.6494\n",
      "Epoch 37, CIFAR-10 Batch 3:  Loss: 0.0323 Validation Accuracy: 0.6886\n",
      "Epoch 37, CIFAR-10 Batch 4:  Loss: 0.0215 Validation Accuracy: 0.7014\n",
      "Epoch 37, CIFAR-10 Batch 5:  Loss: 0.0155 Validation Accuracy: 0.7078\n",
      "Epoch 38, CIFAR-10 Batch 1:  Loss: 0.0602 Validation Accuracy: 0.6758\n",
      "Epoch 38, CIFAR-10 Batch 2:  Loss: 0.0496 Validation Accuracy: 0.6812\n",
      "Epoch 38, CIFAR-10 Batch 3:  Loss: 0.0488 Validation Accuracy: 0.6776\n",
      "Epoch 38, CIFAR-10 Batch 4:  Loss: 0.0163 Validation Accuracy: 0.6996\n",
      "Epoch 38, CIFAR-10 Batch 5:  Loss: 0.0143 Validation Accuracy: 0.6984\n",
      "Epoch 39, CIFAR-10 Batch 1:  Loss: 0.0347 Validation Accuracy: 0.6804\n",
      "Epoch 39, CIFAR-10 Batch 2:  Loss: 0.0495 Validation Accuracy: 0.6874\n",
      "Epoch 39, CIFAR-10 Batch 3:  Loss: 0.0318 Validation Accuracy: 0.7010\n",
      "Epoch 39, CIFAR-10 Batch 4:  Loss: 0.0291 Validation Accuracy: 0.7062\n",
      "Epoch 39, CIFAR-10 Batch 5:  Loss: 0.0189 Validation Accuracy: 0.6912\n",
      "Epoch 40, CIFAR-10 Batch 1:  Loss: 0.0335 Validation Accuracy: 0.6916\n",
      "Epoch 40, CIFAR-10 Batch 2:  Loss: 0.0454 Validation Accuracy: 0.6884\n",
      "Epoch 40, CIFAR-10 Batch 3:  Loss: 0.0289 Validation Accuracy: 0.6814\n",
      "Epoch 40, CIFAR-10 Batch 4:  Loss: 0.0127 Validation Accuracy: 0.7084\n",
      "Epoch 40, CIFAR-10 Batch 5:  Loss: 0.0172 Validation Accuracy: 0.6914\n",
      "Epoch 41, CIFAR-10 Batch 1:  Loss: 0.0315 Validation Accuracy: 0.6950\n",
      "Epoch 41, CIFAR-10 Batch 2:  Loss: 0.0277 Validation Accuracy: 0.6902\n",
      "Epoch 41, CIFAR-10 Batch 3:  Loss: 0.0208 Validation Accuracy: 0.6952\n",
      "Epoch 41, CIFAR-10 Batch 4:  Loss: 0.0188 Validation Accuracy: 0.7066\n",
      "Epoch 41, CIFAR-10 Batch 5:  Loss: 0.0085 Validation Accuracy: 0.6880\n",
      "Epoch 42, CIFAR-10 Batch 1:  Loss: 0.0348 Validation Accuracy: 0.6852\n",
      "Epoch 42, CIFAR-10 Batch 2:  Loss: 0.0454 Validation Accuracy: 0.6916\n",
      "Epoch 42, CIFAR-10 Batch 3:  Loss: 0.0194 Validation Accuracy: 0.7026\n",
      "Epoch 42, CIFAR-10 Batch 4:  Loss: 0.0116 Validation Accuracy: 0.7062\n",
      "Epoch 42, CIFAR-10 Batch 5:  Loss: 0.0200 Validation Accuracy: 0.6946\n",
      "Epoch 43, CIFAR-10 Batch 1:  Loss: 0.0217 Validation Accuracy: 0.6814\n",
      "Epoch 43, CIFAR-10 Batch 2:  Loss: 0.0276 Validation Accuracy: 0.6990\n",
      "Epoch 43, CIFAR-10 Batch 3:  Loss: 0.0165 Validation Accuracy: 0.6960\n",
      "Epoch 43, CIFAR-10 Batch 4:  Loss: 0.0104 Validation Accuracy: 0.7030\n",
      "Epoch 43, CIFAR-10 Batch 5:  Loss: 0.0097 Validation Accuracy: 0.7076\n",
      "Epoch 44, CIFAR-10 Batch 1:  Loss: 0.0336 Validation Accuracy: 0.6860\n",
      "Epoch 44, CIFAR-10 Batch 2:  Loss: 0.0143 Validation Accuracy: 0.7064\n",
      "Epoch 44, CIFAR-10 Batch 3:  Loss: 0.0157 Validation Accuracy: 0.7012\n",
      "Epoch 44, CIFAR-10 Batch 4:  Loss: 0.0047 Validation Accuracy: 0.6914\n",
      "Epoch 44, CIFAR-10 Batch 5:  Loss: 0.0091 Validation Accuracy: 0.6856\n",
      "Epoch 45, CIFAR-10 Batch 1:  Loss: 0.0159 Validation Accuracy: 0.6966\n",
      "Epoch 45, CIFAR-10 Batch 2:  Loss: 0.0163 Validation Accuracy: 0.7098\n",
      "Epoch 45, CIFAR-10 Batch 3:  Loss: 0.0081 Validation Accuracy: 0.7074\n",
      "Epoch 45, CIFAR-10 Batch 4:  Loss: 0.0082 Validation Accuracy: 0.6942\n",
      "Epoch 45, CIFAR-10 Batch 5:  Loss: 0.0103 Validation Accuracy: 0.6904\n",
      "Epoch 46, CIFAR-10 Batch 1:  Loss: 0.0153 Validation Accuracy: 0.6964\n",
      "Epoch 46, CIFAR-10 Batch 2:  Loss: 0.0255 Validation Accuracy: 0.7042\n",
      "Epoch 46, CIFAR-10 Batch 3:  Loss: 0.0078 Validation Accuracy: 0.7034\n",
      "Epoch 46, CIFAR-10 Batch 4:  Loss: 0.0047 Validation Accuracy: 0.7110\n",
      "Epoch 46, CIFAR-10 Batch 5:  Loss: 0.0099 Validation Accuracy: 0.6814\n",
      "Epoch 47, CIFAR-10 Batch 1:  Loss: 0.0294 Validation Accuracy: 0.6834\n",
      "Epoch 47, CIFAR-10 Batch 2:  Loss: 0.0304 Validation Accuracy: 0.6832\n",
      "Epoch 47, CIFAR-10 Batch 3:  Loss: 0.0062 Validation Accuracy: 0.7014\n",
      "Epoch 47, CIFAR-10 Batch 4:  Loss: 0.0245 Validation Accuracy: 0.7074\n"
     ]
    },
    {
     "name": "stdout",
     "output_type": "stream",
     "text": [
      "Epoch 47, CIFAR-10 Batch 5:  Loss: 0.0091 Validation Accuracy: 0.6872\n",
      "Epoch 48, CIFAR-10 Batch 1:  Loss: 0.0114 Validation Accuracy: 0.6984\n",
      "Epoch 48, CIFAR-10 Batch 2:  Loss: 0.0116 Validation Accuracy: 0.6984\n",
      "Epoch 48, CIFAR-10 Batch 3:  Loss: 0.0122 Validation Accuracy: 0.6864\n",
      "Epoch 48, CIFAR-10 Batch 4:  Loss: 0.0072 Validation Accuracy: 0.7084\n",
      "Epoch 48, CIFAR-10 Batch 5:  Loss: 0.0084 Validation Accuracy: 0.6910\n",
      "Epoch 49, CIFAR-10 Batch 1:  Loss: 0.0110 Validation Accuracy: 0.7014\n",
      "Epoch 49, CIFAR-10 Batch 2:  Loss: 0.0207 Validation Accuracy: 0.6974\n",
      "Epoch 49, CIFAR-10 Batch 3:  Loss: 0.0092 Validation Accuracy: 0.6920\n",
      "Epoch 49, CIFAR-10 Batch 4:  Loss: 0.0046 Validation Accuracy: 0.7048\n",
      "Epoch 49, CIFAR-10 Batch 5:  Loss: 0.0053 Validation Accuracy: 0.7008\n",
      "Epoch 50, CIFAR-10 Batch 1:  Loss: 0.0146 Validation Accuracy: 0.6986\n",
      "Epoch 50, CIFAR-10 Batch 2:  Loss: 0.0242 Validation Accuracy: 0.6956\n",
      "Epoch 50, CIFAR-10 Batch 3:  Loss: 0.0085 Validation Accuracy: 0.6852\n",
      "Epoch 50, CIFAR-10 Batch 4:  Loss: 0.0058 Validation Accuracy: 0.7012\n",
      "Epoch 50, CIFAR-10 Batch 5:  Loss: 0.0053 Validation Accuracy: 0.6964\n"
     ]
    }
   ],
   "source": [
    "\"\"\"\n",
    "DON'T MODIFY ANYTHING IN THIS CELL\n",
    "\"\"\"\n",
    "save_model_path = './image_classification'\n",
    "\n",
    "print('Training...')\n",
    "with tf.Session() as sess:\n",
    "    # Initializing the variables\n",
    "    sess.run(tf.global_variables_initializer())\n",
    "    \n",
    "    # Training cycle\n",
    "    for epoch in range(epochs):\n",
    "        # Loop over all batches\n",
    "        n_batches = 5\n",
    "        for batch_i in range(1, n_batches + 1):\n",
    "            for batch_features, batch_labels in helper.load_preprocess_training_batch(batch_i, batch_size):\n",
    "                train_neural_network(sess, optimizer, keep_probability, batch_features, batch_labels)\n",
    "            print('Epoch {:>2}, CIFAR-10 Batch {}:  '.format(epoch + 1, batch_i), end='')\n",
    "            print_stats(sess, batch_features, batch_labels, cost, accuracy)\n",
    "            \n",
    "    # Save Model\n",
    "    saver = tf.train.Saver()\n",
    "    save_path = saver.save(sess, save_model_path)"
   ]
  },
  {
   "cell_type": "markdown",
   "metadata": {},
   "source": [
    "# Checkpoint\n",
    "The model has been saved to disk.\n",
    "## Test Model\n",
    "Test your model against the test dataset.  This will be your final accuracy. You should have an accuracy greater than 50%. If you don't, keep tweaking the model architecture and parameters."
   ]
  },
  {
   "cell_type": "code",
   "execution_count": 19,
   "metadata": {},
   "outputs": [
    {
     "name": "stdout",
     "output_type": "stream",
     "text": [
      "INFO:tensorflow:Restoring parameters from ./image_classification\n",
      "Testing Accuracy: 0.6919921875\n",
      "\n"
     ]
    },
    {
     "data": {
      "image/png": "[encoded data removed]",
      "text/plain": [
       "<matplotlib.figure.Figure at 0x1a19a2a2e8>"
      ]
     },
     "metadata": {
      "image/png": {
       "height": 319,
       "width": 355
      }
     },
     "output_type": "display_data"
    }
   ],
   "source": [
    "\"\"\"\n",
    "DON'T MODIFY ANYTHING IN THIS CELL\n",
    "\"\"\"\n",
    "%matplotlib inline\n",
    "%config InlineBackend.figure_format = 'retina'\n",
    "\n",
    "import tensorflow as tf\n",
    "import pickle\n",
    "import helper\n",
    "import random\n",
    "\n",
    "# Set batch size if not already set\n",
    "try:\n",
    "    if batch_size:\n",
    "        pass\n",
    "except NameError:\n",
    "    batch_size = 64\n",
    "\n",
    "save_model_path = './image_classification'\n",
    "n_samples = 4\n",
    "top_n_predictions = 3\n",
    "\n",
    "def test_model():\n",
    "    \"\"\"\n",
    "    Test the saved model against the test dataset\n",
    "    \"\"\"\n",
    "\n",
    "    test_features, test_labels = pickle.load(open('preprocess_test.p', mode='rb'))\n",
    "    loaded_graph = tf.Graph()\n",
    "\n",
    "    with tf.Session(graph=loaded_graph) as sess:\n",
    "        # Load model\n",
    "        loader = tf.train.import_meta_graph(save_model_path + '.meta')\n",
    "        loader.restore(sess, save_model_path)\n",
    "\n",
    "        # Get Tensors from loaded model\n",
    "        loaded_x = loaded_graph.get_tensor_by_name('x:0')\n",
    "        loaded_y = loaded_graph.get_tensor_by_name('y:0')\n",
    "        loaded_keep_prob = loaded_graph.get_tensor_by_name('keep_prob:0')\n",
    "        loaded_logits = loaded_graph.get_tensor_by_name('logits:0')\n",
    "        loaded_acc = loaded_graph.get_tensor_by_name('accuracy:0')\n",
    "        \n",
    "        # Get accuracy in batches for memory limitations\n",
    "        test_batch_acc_total = 0\n",
    "        test_batch_count = 0\n",
    "        \n",
    "        for test_feature_batch, test_label_batch in helper.batch_features_labels(test_features, test_labels, batch_size):\n",
    "            test_batch_acc_total += sess.run(\n",
    "                loaded_acc,\n",
    "                feed_dict={loaded_x: test_feature_batch, loaded_y: test_label_batch, loaded_keep_prob: 1.0})\n",
    "            test_batch_count += 1\n",
    "\n",
    "        print('Testing Accuracy: {}\\n'.format(test_batch_acc_total/test_batch_count))\n",
    "\n",
    "        # Print Random Samples\n",
    "        random_test_features, random_test_labels = tuple(zip(*random.sample(list(zip(test_features, test_labels)), n_samples)))\n",
    "        random_test_predictions = sess.run(\n",
    "            tf.nn.top_k(tf.nn.softmax(loaded_logits), top_n_predictions),\n",
    "            feed_dict={loaded_x: random_test_features, loaded_y: random_test_labels, loaded_keep_prob: 1.0})\n",
    "        helper.display_image_predictions(random_test_features, random_test_labels, random_test_predictions)\n",
    "\n",
    "\n",
    "test_model()"
   ]
  },
  {
   "cell_type": "markdown",
   "metadata": {},
   "source": [
    "## Why 50-80% Accuracy?\n",
    "You might be wondering why you can't get an accuracy any higher. First things first, 50% isn't bad for a simple CNN.  Pure guessing would get you 10% accuracy. However, you might notice people are getting scores [well above 80%](http://rodrigob.github.io/are_we_there_yet/build/classification_datasets_results.html#43494641522d3130).  That's because we haven't taught you all there is to know about neural networks. We still need to cover a few more techniques.\n",
    "## Submitting This Project\n",
    "When submitting this project, make sure to run all the cells before saving the notebook.  Save the notebook file as \"dlnd_image_classification.ipynb\" and save it as a HTML file under \"File\" -> \"Download as\".  Include the \"helper.py\" and \"problem_unittests.py\" files in your submission."
   ]
  }
 ],
 "metadata": {
  "kernelspec": {
   "display_name": "Python 3",
   "language": "python",
   "name": "python3"
  },
  "language_info": {
   "codemirror_mode": {
    "name": "ipython",
    "version": 3
   },
   "file_extension": ".py",
   "mimetype": "text/x-python",
   "name": "python",
   "nbconvert_exporter": "python",
   "pygments_lexer": "ipython3",
   "version": "3.6.2"
  }
 },
 "nbformat": 4,
 "nbformat_minor": 1
}
